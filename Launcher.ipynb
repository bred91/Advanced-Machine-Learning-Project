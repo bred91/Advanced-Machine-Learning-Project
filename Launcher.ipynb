{
  "nbformat": 4,
  "nbformat_minor": 0,
  "metadata": {
    "colab": {
      "provenance": [],
      "gpuType": "T4",
      "authorship_tag": "ABX9TyOhnd05NkVqGadsOy8aFjA/"
    },
    "kernelspec": {
      "name": "python3",
      "display_name": "Python 3"
    },
    "language_info": {
      "name": "python"
    },
    "accelerator": "GPU"
  },
  "cells": [
    {
      "cell_type": "markdown",
      "source": [
        "#Project Launcher"
      ],
      "metadata": {
        "id": "O65EaNA3KWoA"
      }
    },
    {
      "cell_type": "markdown",
      "source": [
        "###Import"
      ],
      "metadata": {
        "id": "7VH1sz0vKD2K"
      }
    },
    {
      "cell_type": "code",
      "source": [
        "!pip install ood-metrics"
      ],
      "metadata": {
        "id": "CAjEhUFVuOe8"
      },
      "execution_count": null,
      "outputs": []
    },
    {
      "cell_type": "markdown",
      "source": [
        "###Loading"
      ],
      "metadata": {
        "id": "yA4FrWqrKGpc"
      }
    },
    {
      "cell_type": "code",
      "source": [
        "!git clone \"https://github.com/bred91/Advanced_Machine_Learning_Project.git\""
      ],
      "metadata": {
        "id": "iJlRtQDiuIlz",
        "colab": {
          "base_uri": "https://localhost:8080/"
        },
        "outputId": "861e83f3-7680-4744-c969-523ae17f526e"
      },
      "execution_count": 1,
      "outputs": [
        {
          "output_type": "stream",
          "name": "stdout",
          "text": [
            "Cloning into 'Advanced_Machine_Learning_Project'...\n",
            "remote: Enumerating objects: 45, done.\u001b[K\n",
            "remote: Counting objects: 100% (45/45), done.\u001b[K\n",
            "remote: Compressing objects: 100% (31/31), done.\u001b[K\n",
            "remote: Total 45 (delta 14), reused 38 (delta 13), pack-reused 0\u001b[K\n",
            "Receiving objects: 100% (45/45), 21.47 MiB | 12.56 MiB/s, done.\n",
            "Resolving deltas: 100% (14/14), done.\n"
          ]
        }
      ]
    },
    {
      "cell_type": "code",
      "source": [
        "from google.colab import drive\n",
        "import os\n",
        "import sys\n",
        "\n",
        "if not os.path.isfile('/content/Validation_Dataset.zip'):\n",
        "  !gdown --id 1r2eFANvSlcUjxcerjC8l6dRa0slowMpx\n",
        "  !jar xvf  \"/content/Validation_Dataset.zip\"\n",
        "\n",
        "if not os.path.isdir('/content/Validation_Dataset'):\n",
        "  print(\"Dataset doesn't exist\")"
      ],
      "metadata": {
        "id": "70HelDlzFOCI"
      },
      "execution_count": null,
      "outputs": []
    },
    {
      "cell_type": "code",
      "source": [
        "import sys\n",
        "sys.path.append(\"/content/Advanced_Machine_Learning_Project/\")\n",
        "import Advanced_Machine_Learning_Project\n",
        "from Advanced_Machine_Learning_Project import *"
      ],
      "metadata": {
        "id": "IlywvhixokKf"
      },
      "execution_count": 3,
      "outputs": []
    },
    {
      "cell_type": "markdown",
      "source": [
        "###Test 1"
      ],
      "metadata": {
        "id": "FU18k_ePKOYY"
      }
    },
    {
      "cell_type": "code",
      "source": [
        "%run /content/Advanced_Machine_Learning_Project/eval/evalAnomaly.py --isColab --input /content/Validation_Dataset/RoadAnomaly21/images --loadDir /content/Advanced_Machine_Learning_Project/trained_models/"
      ],
      "metadata": {
        "id": "aNt2Q2O8fmgO"
      },
      "execution_count": null,
      "outputs": []
    },
    {
      "cell_type": "code",
      "source": [],
      "metadata": {
        "id": "_6P0leSatg6W"
      },
      "execution_count": null,
      "outputs": []
    }
  ]
}