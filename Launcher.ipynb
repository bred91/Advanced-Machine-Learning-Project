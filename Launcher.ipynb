{
  "nbformat": 4,
  "nbformat_minor": 0,
  "metadata": {
    "colab": {
      "provenance": [],
      "gpuType": "T4",
      "collapsed_sections": [
        "7VH1sz0vKD2K"
      ],
      "authorship_tag": "ABX9TyOkXXqZhteGJTSZHyCOq1nj"
    },
    "kernelspec": {
      "name": "python3",
      "display_name": "Python 3"
    },
    "language_info": {
      "name": "python"
    },
    "accelerator": "GPU"
  },
  "cells": [
    {
      "cell_type": "markdown",
      "source": [
        "#Project Launcher"
      ],
      "metadata": {
        "id": "O65EaNA3KWoA"
      }
    },
    {
      "cell_type": "markdown",
      "source": [
        "###Import"
      ],
      "metadata": {
        "id": "7VH1sz0vKD2K"
      }
    },
    {
      "cell_type": "code",
      "source": [
        "!pip install ood-metrics"
      ],
      "metadata": {
        "id": "CAjEhUFVuOe8"
      },
      "execution_count": null,
      "outputs": []
    },
    {
      "cell_type": "markdown",
      "source": [
        "###Loading"
      ],
      "metadata": {
        "id": "yA4FrWqrKGpc"
      }
    },
    {
      "cell_type": "code",
      "source": [
        "!git clone \"https://github.com/bred91/Advanced_Machine_Learning_Project.git\""
      ],
      "metadata": {
        "id": "iJlRtQDiuIlz",
        "colab": {
          "base_uri": "https://localhost:8080/"
        },
        "outputId": "4064a715-26c6-44ba-df8e-6a35433a5a4e"
      },
      "execution_count": 5,
      "outputs": [
        {
          "output_type": "stream",
          "name": "stdout",
          "text": [
            "Cloning into 'Advanced_Machine_Learning_Project'...\n",
            "remote: Enumerating objects: 36, done.\u001b[K\n",
            "remote: Counting objects: 100% (36/36), done.\u001b[K\n",
            "remote: Compressing objects: 100% (26/26), done.\u001b[K\n",
            "remote: Total 36 (delta 9), reused 33 (delta 9), pack-reused 0\u001b[K\n",
            "Receiving objects: 100% (36/36), 21.47 MiB | 3.00 MiB/s, done.\n",
            "Resolving deltas: 100% (9/9), done.\n"
          ]
        }
      ]
    },
    {
      "cell_type": "code",
      "source": [
        "from google.colab import drive\n",
        "import os\n",
        "import sys\n",
        "\n",
        "if not os.path.isfile('/content/Validation_Dataset.zip'):\n",
        "  !gdown --id 1r2eFANvSlcUjxcerjC8l6dRa0slowMpx\n",
        "  !jar xvf  \"/content/Validation_Dataset.zip\"\n",
        "\n",
        "if not os.path.isdir('/content/Validation_Dataset'):\n",
        "  print(\"Dataset doesn't exist\")"
      ],
      "metadata": {
        "id": "70HelDlzFOCI"
      },
      "execution_count": 64,
      "outputs": []
    },
    {
      "cell_type": "code",
      "source": [
        "import sys\n",
        "sys.path.append(\"/content/Advanced_Machine_Learning_Project/\")\n",
        "import Advanced_Machine_Learning_Project\n",
        "from Advanced_Machine_Learning_Project import *"
      ],
      "metadata": {
        "id": "IlywvhixokKf"
      },
      "execution_count": 6,
      "outputs": []
    },
    {
      "cell_type": "markdown",
      "source": [
        "###Test 1"
      ],
      "metadata": {
        "id": "FU18k_ePKOYY"
      }
    },
    {
      "cell_type": "code",
      "source": [
        "%run /content/Advanced_Machine_Learning_Project/eval/evalAnomaly.py --isColab --input /content/test/images"
      ],
      "metadata": {
        "id": "aNt2Q2O8fmgO",
        "colab": {
          "base_uri": "https://localhost:8080/"
        },
        "outputId": "c4b63f85-0afd-40aa-94e3-f1e89662437d"
      },
      "execution_count": 55,
      "outputs": [
        {
          "output_type": "stream",
          "name": "stdout",
          "text": [
            "Loading model: /content/Advanced_Machine_Learning_Project/trained_models/erfnet.py\n",
            "Loading weights: /content/Advanced_Machine_Learning_Project/trained_models/erfnet_pretrained.pth\n",
            "Model and weights LOADED successfully\n",
            "/content/test/images/3.png\n",
            "/content/test/images/6.png\n",
            "/content/test/images/7.png\n",
            "/content/test/images/2.png\n",
            "/content/test/images/9.png\n",
            "/content/test/images/0.png\n",
            "/content/test/images/1.png\n",
            "/content/test/images/5.png\n",
            "/content/test/images/8.png\n",
            "/content/test/images/4.png\n",
            "AUPRC score: 13.193440419376595\n",
            "FPR@TPR95: 97.01505536399301\n"
          ]
        }
      ]
    },
    {
      "cell_type": "code",
      "source": [],
      "metadata": {
        "id": "_6P0leSatg6W"
      },
      "execution_count": 47,
      "outputs": []
    }
  ]
}