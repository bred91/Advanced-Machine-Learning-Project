{
  "nbformat": 4,
  "nbformat_minor": 0,
  "metadata": {
    "colab": {
      "provenance": [],
      "gpuType": "T4",
      "authorship_tag": "ABX9TyPBe6HRvSHp90Y+aXQsRANj"
    },
    "kernelspec": {
      "name": "python3",
      "display_name": "Python 3"
    },
    "language_info": {
      "name": "python"
    },
    "accelerator": "GPU"
  },
  "cells": [
    {
      "cell_type": "markdown",
      "source": [
        "#Project Launcher"
      ],
      "metadata": {
        "id": "O65EaNA3KWoA"
      }
    },
    {
      "cell_type": "markdown",
      "source": [
        "###Import"
      ],
      "metadata": {
        "id": "7VH1sz0vKD2K"
      }
    },
    {
      "cell_type": "code",
      "source": [
        "!pip install ood-metrics"
      ],
      "metadata": {
        "id": "CAjEhUFVuOe8",
        "colab": {
          "base_uri": "https://localhost:8080/"
        },
        "outputId": "84b2d099-5292-4c5a-b95d-0f2169e4db80"
      },
      "execution_count": 1,
      "outputs": [
        {
          "output_type": "stream",
          "name": "stdout",
          "text": [
            "Collecting ood-metrics\n",
            "  Downloading ood_metrics-1.1.2-py3-none-any.whl (6.1 kB)\n",
            "Requirement already satisfied: matplotlib<4.0,>=3.0 in /usr/local/lib/python3.10/dist-packages (from ood-metrics) (3.7.1)\n",
            "Requirement already satisfied: numpy<2.0,>=1.22 in /usr/local/lib/python3.10/dist-packages (from ood-metrics) (1.23.5)\n",
            "Requirement already satisfied: scikit-learn<2.0,>=1.0 in /usr/local/lib/python3.10/dist-packages (from ood-metrics) (1.2.2)\n",
            "Requirement already satisfied: contourpy>=1.0.1 in /usr/local/lib/python3.10/dist-packages (from matplotlib<4.0,>=3.0->ood-metrics) (1.2.0)\n",
            "Requirement already satisfied: cycler>=0.10 in /usr/local/lib/python3.10/dist-packages (from matplotlib<4.0,>=3.0->ood-metrics) (0.12.1)\n",
            "Requirement already satisfied: fonttools>=4.22.0 in /usr/local/lib/python3.10/dist-packages (from matplotlib<4.0,>=3.0->ood-metrics) (4.46.0)\n",
            "Requirement already satisfied: kiwisolver>=1.0.1 in /usr/local/lib/python3.10/dist-packages (from matplotlib<4.0,>=3.0->ood-metrics) (1.4.5)\n",
            "Requirement already satisfied: packaging>=20.0 in /usr/local/lib/python3.10/dist-packages (from matplotlib<4.0,>=3.0->ood-metrics) (23.2)\n",
            "Requirement already satisfied: pillow>=6.2.0 in /usr/local/lib/python3.10/dist-packages (from matplotlib<4.0,>=3.0->ood-metrics) (9.4.0)\n",
            "Requirement already satisfied: pyparsing>=2.3.1 in /usr/local/lib/python3.10/dist-packages (from matplotlib<4.0,>=3.0->ood-metrics) (3.1.1)\n",
            "Requirement already satisfied: python-dateutil>=2.7 in /usr/local/lib/python3.10/dist-packages (from matplotlib<4.0,>=3.0->ood-metrics) (2.8.2)\n",
            "Requirement already satisfied: scipy>=1.3.2 in /usr/local/lib/python3.10/dist-packages (from scikit-learn<2.0,>=1.0->ood-metrics) (1.11.4)\n",
            "Requirement already satisfied: joblib>=1.1.1 in /usr/local/lib/python3.10/dist-packages (from scikit-learn<2.0,>=1.0->ood-metrics) (1.3.2)\n",
            "Requirement already satisfied: threadpoolctl>=2.0.0 in /usr/local/lib/python3.10/dist-packages (from scikit-learn<2.0,>=1.0->ood-metrics) (3.2.0)\n",
            "Requirement already satisfied: six>=1.5 in /usr/local/lib/python3.10/dist-packages (from python-dateutil>=2.7->matplotlib<4.0,>=3.0->ood-metrics) (1.16.0)\n",
            "Installing collected packages: ood-metrics\n",
            "Successfully installed ood-metrics-1.1.2\n"
          ]
        }
      ]
    },
    {
      "cell_type": "markdown",
      "source": [
        "###Loading"
      ],
      "metadata": {
        "id": "yA4FrWqrKGpc"
      }
    },
    {
      "cell_type": "code",
      "source": [
        "!git clone \"https://github.com/bred91/HamburgerManager.git\""
      ],
      "metadata": {
        "id": "iJlRtQDiuIlz",
        "colab": {
          "base_uri": "https://localhost:8080/"
        },
        "outputId": "d2b33a3d-6a15-4d37-bea7-7ed8970c8c06"
      },
      "execution_count": 2,
      "outputs": [
        {
          "output_type": "stream",
          "name": "stdout",
          "text": [
            "Cloning into 'HamburgerManager'...\n",
            "remote: Enumerating objects: 48, done.\u001b[K\n",
            "remote: Counting objects: 100% (48/48), done.\u001b[K\n",
            "remote: Compressing objects: 100% (35/35), done.\u001b[K\n",
            "remote: Total 48 (delta 16), reused 37 (delta 12), pack-reused 0\u001b[K\n",
            "Receiving objects: 100% (48/48), 21.47 MiB | 2.88 MiB/s, done.\n",
            "Resolving deltas: 100% (16/16), done.\n"
          ]
        }
      ]
    },
    {
      "cell_type": "code",
      "source": [
        "from google.colab import drive\n",
        "import os\n",
        "import sys\n",
        "\n",
        "if not os.path.isfile('/content/Validation_Dataset.zip'):\n",
        "  !gdown --id 1r2eFANvSlcUjxcerjC8l6dRa0slowMpx\n",
        "  !jar xvf  \"/content/Validation_Dataset.zip\"\n",
        "\n",
        "if not os.path.isdir('/content/Validation_Dataset'):\n",
        "  print(\"Dataset doesn't exist\")"
      ],
      "metadata": {
        "id": "70HelDlzFOCI"
      },
      "execution_count": null,
      "outputs": []
    },
    {
      "cell_type": "code",
      "source": [
        "import sys\n",
        "sys.path.append(\"/content/HamburgerManager/\")\n",
        "import HamburgerManager\n",
        "from HamburgerManager import *"
      ],
      "metadata": {
        "id": "IlywvhixokKf"
      },
      "execution_count": 6,
      "outputs": []
    },
    {
      "cell_type": "markdown",
      "source": [
        "###Test 1"
      ],
      "metadata": {
        "id": "FU18k_ePKOYY"
      }
    },
    {
      "cell_type": "code",
      "source": [
        "%run /content/HamburgerManager/eval/evalAnomaly.py --isColab --input /content/Validation_Dataset/RoadAnomaly21/images --loadDir /content/HamburgerManager/trained_models/"
      ],
      "metadata": {
        "id": "aNt2Q2O8fmgO",
        "colab": {
          "base_uri": "https://localhost:8080/"
        },
        "outputId": "767676c5-b01f-4b64-c812-5e12db3b8daa"
      },
      "execution_count": 19,
      "outputs": [
        {
          "output_type": "stream",
          "name": "stdout",
          "text": [
            "Loading model: /content/HamburgerManager/trained_models/erfnet.py\n",
            "Loading weights: /content/HamburgerManager/trained_models/erfnet_pretrained.pth\n",
            "Model and weights LOADED successfully\n",
            "/content/Validation_Dataset/RoadAnomaly21/images/2.png\n",
            "tensor([[1.0000, 0.9786, 0.9996,  ..., 1.0000, 1.0000, 1.0000],\n",
            "        [1.0000, 0.9998, 1.0000,  ..., 1.0000, 0.5789, 0.9716],\n",
            "        [1.0000, 1.0000, 1.0000,  ..., 1.0000, 1.0000, 1.0000],\n",
            "        ...,\n",
            "        [0.9162, 0.9435, 1.0000,  ..., 0.9997, 0.9991, 1.0000],\n",
            "        [0.3501, 0.3385, 0.9935,  ..., 1.0000, 1.0000, 1.0000],\n",
            "        [0.3438, 0.3145, 0.9997,  ..., 1.0000, 1.0000, 1.0000]],\n",
            "       device='cuda:0')\n",
            "/content/Validation_Dataset/RoadAnomaly21/images/4.png\n",
            "tensor([[1.0000, 1.0000, 1.0000,  ..., 1.0000, 0.9919, 0.9997],\n",
            "        [1.0000, 1.0000, 1.0000,  ..., 1.0000, 0.9828, 1.0000],\n",
            "        [0.7752, 0.9243, 0.9904,  ..., 1.0000, 1.0000, 1.0000],\n",
            "        ...,\n",
            "        [0.8911, 0.8637, 0.6809,  ..., 1.0000, 1.0000, 0.9981],\n",
            "        [1.0000, 1.0000, 0.9990,  ..., 1.0000, 0.9853, 0.9087],\n",
            "        [0.9998, 0.9999, 1.0000,  ..., 0.9998, 0.9339, 0.7090]],\n",
            "       device='cuda:0')\n",
            "/content/Validation_Dataset/RoadAnomaly21/images/6.png\n",
            "tensor([[0.9997, 0.9942, 0.9997,  ..., 1.0000, 0.9922, 0.9998],\n",
            "        [1.0000, 0.9996, 0.9975,  ..., 1.0000, 0.9998, 0.9995],\n",
            "        [0.9462, 0.9490, 1.0000,  ..., 1.0000, 1.0000, 0.9988],\n",
            "        ...,\n",
            "        [1.0000, 1.0000, 0.9997,  ..., 1.0000, 1.0000, 1.0000],\n",
            "        [0.9999, 1.0000, 0.9969,  ..., 1.0000, 1.0000, 1.0000],\n",
            "        [0.9999, 1.0000, 0.9043,  ..., 1.0000, 1.0000, 0.9994]],\n",
            "       device='cuda:0')\n",
            "/content/Validation_Dataset/RoadAnomaly21/images/7.png\n",
            "tensor([[0.9796, 0.9773, 0.8287,  ..., 0.8434, 0.6749, 0.9943],\n",
            "        [0.9793, 0.9766, 0.8200,  ..., 1.0000, 0.9957, 1.0000],\n",
            "        [0.9645, 0.9284, 0.8838,  ..., 0.9992, 1.0000, 0.6365],\n",
            "        ...,\n",
            "        [1.0000, 1.0000, 1.0000,  ..., 1.0000, 1.0000, 1.0000],\n",
            "        [0.9981, 0.7478, 0.9999,  ..., 1.0000, 0.9930, 1.0000],\n",
            "        [0.9970, 0.9996, 0.9934,  ..., 1.0000, 0.6823, 1.0000]],\n",
            "       device='cuda:0')\n",
            "/content/Validation_Dataset/RoadAnomaly21/images/0.png\n",
            "tensor([[0.9993, 0.9993, 0.5892,  ..., 1.0000, 0.5374, 0.9942],\n",
            "        [0.9711, 0.9924, 0.7210,  ..., 0.9771, 0.5140, 0.9970],\n",
            "        [0.9999, 0.9997, 1.0000,  ..., 0.9848, 0.9359, 0.9039],\n",
            "        ...,\n",
            "        [1.0000, 1.0000, 1.0000,  ..., 0.9984, 0.9946, 0.7849],\n",
            "        [1.0000, 1.0000, 0.9998,  ..., 0.8633, 0.8395, 1.0000],\n",
            "        [1.0000, 1.0000, 1.0000,  ..., 0.5231, 0.9544, 1.0000]],\n",
            "       device='cuda:0')\n",
            "/content/Validation_Dataset/RoadAnomaly21/images/9.png\n",
            "tensor([[0.9955, 0.6971, 1.0000,  ..., 1.0000, 1.0000, 1.0000],\n",
            "        [0.6070, 1.0000, 0.9999,  ..., 1.0000, 1.0000, 1.0000],\n",
            "        [1.0000, 1.0000, 0.9979,  ..., 1.0000, 1.0000, 1.0000],\n",
            "        ...,\n",
            "        [0.9789, 0.4424, 1.0000,  ..., 0.9546, 0.9001, 1.0000],\n",
            "        [0.9988, 0.9998, 0.5403,  ..., 0.9989, 1.0000, 1.0000],\n",
            "        [0.9930, 0.9986, 0.5141,  ..., 0.9999, 1.0000, 1.0000]],\n",
            "       device='cuda:0')\n",
            "/content/Validation_Dataset/RoadAnomaly21/images/8.png\n",
            "tensor([[0.4095, 1.0000, 1.0000,  ..., 0.9997, 0.9617, 0.8447],\n",
            "        [0.9720, 1.0000, 0.9119,  ..., 1.0000, 1.0000, 1.0000],\n",
            "        [1.0000, 1.0000, 1.0000,  ..., 0.7909, 0.9987, 0.9798],\n",
            "        ...,\n",
            "        [1.0000, 1.0000, 0.7225,  ..., 1.0000, 1.0000, 1.0000],\n",
            "        [0.9920, 0.9151, 0.4544,  ..., 1.0000, 0.6094, 0.9899],\n",
            "        [1.0000, 0.9445, 0.9368,  ..., 1.0000, 0.5432, 0.9999]],\n",
            "       device='cuda:0')\n",
            "/content/Validation_Dataset/RoadAnomaly21/images/5.png\n",
            "tensor([[1.0000, 1.0000, 1.0000,  ..., 1.0000, 0.9987, 0.7734],\n",
            "        [1.0000, 1.0000, 1.0000,  ..., 0.9967, 0.9712, 1.0000],\n",
            "        [1.0000, 1.0000, 1.0000,  ..., 1.0000, 0.9742, 1.0000],\n",
            "        ...,\n",
            "        [0.9563, 0.6908, 0.9972,  ..., 0.9998, 1.0000, 0.9878],\n",
            "        [0.6563, 0.7343, 0.9808,  ..., 0.9734, 0.9564, 0.9997],\n",
            "        [0.9895, 0.6213, 0.9643,  ..., 0.9733, 0.7252, 0.9995]],\n",
            "       device='cuda:0')\n",
            "/content/Validation_Dataset/RoadAnomaly21/images/3.png\n",
            "tensor([[0.9693, 1.0000, 0.6265,  ..., 1.0000, 1.0000, 1.0000],\n",
            "        [0.9999, 0.8717, 0.9910,  ..., 0.9999, 0.9723, 1.0000],\n",
            "        [1.0000, 1.0000, 1.0000,  ..., 1.0000, 1.0000, 1.0000],\n",
            "        ...,\n",
            "        [0.6376, 0.5880, 1.0000,  ..., 0.7206, 0.9031, 0.9996],\n",
            "        [0.8953, 0.6351, 1.0000,  ..., 0.9939, 0.8282, 0.9994],\n",
            "        [0.7920, 0.6544, 1.0000,  ..., 0.9883, 0.9765, 1.0000]],\n",
            "       device='cuda:0')\n",
            "/content/Validation_Dataset/RoadAnomaly21/images/1.png\n",
            "tensor([[1.0000, 1.0000, 0.9999,  ..., 0.9434, 0.8874, 0.5659],\n",
            "        [1.0000, 1.0000, 0.9973,  ..., 0.7392, 0.9744, 0.9966],\n",
            "        [0.6616, 0.9894, 1.0000,  ..., 0.9888, 1.0000, 1.0000],\n",
            "        ...,\n",
            "        [1.0000, 1.0000, 1.0000,  ..., 0.7061, 1.0000, 0.8340],\n",
            "        [1.0000, 1.0000, 1.0000,  ..., 0.9986, 0.9961, 0.9999],\n",
            "        [1.0000, 1.0000, 1.0000,  ..., 0.9999, 0.9992, 1.0000]],\n",
            "       device='cuda:0')\n",
            "AUPRC score: 13.193440419376595\n",
            "FPR@TPR95: 97.01505536399301\n"
          ]
        }
      ]
    },
    {
      "cell_type": "code",
      "source": [],
      "metadata": {
        "id": "_6P0leSatg6W"
      },
      "execution_count": null,
      "outputs": []
    }
  ]
}