{
  "cells": [
    {
      "cell_type": "markdown",
      "metadata": {
        "id": "O65EaNA3KWoA"
      },
      "source": [
        "#Evaluation Launcher"
      ]
    },
    {
      "cell_type": "markdown",
      "metadata": {
        "id": "7VH1sz0vKD2K"
      },
      "source": [
        "###Import"
      ]
    },
    {
      "cell_type": "code",
      "execution_count": 1,
      "metadata": {
        "id": "CAjEhUFVuOe8"
      },
      "outputs": [],
      "source": [
        "!pip install ood-metrics\n",
        "from IPython.display import clear_output\n",
        "clear_output()"
      ]
    },
    {
      "cell_type": "markdown",
      "metadata": {
        "id": "yA4FrWqrKGpc"
      },
      "source": [
        "###Loading"
      ]
    },
    {
      "cell_type": "code",
      "execution_count": 7,
      "metadata": {
        "colab": {
          "base_uri": "https://localhost:8080/"
        },
        "id": "iJlRtQDiuIlz",
        "outputId": "de896d88-16b2-42e4-f7c5-4573abb59dca"
      },
      "outputs": [
        {
          "output_type": "stream",
          "name": "stdout",
          "text": [
            "Cloning into 'HamburgerManager'...\n",
            "remote: Enumerating objects: 764, done.\u001b[K\n",
            "remote: Counting objects: 100% (427/427), done.\u001b[K\n",
            "remote: Compressing objects: 100% (418/418), done.\u001b[K\n",
            "remote: Total 764 (delta 13), reused 421 (delta 9), pack-reused 337\u001b[K\n",
            "Receiving objects: 100% (764/764), 352.86 MiB | 41.02 MiB/s, done.\n",
            "Resolving deltas: 100% (136/136), done.\n",
            "Updating files: 100% (561/561), done.\n"
          ]
        }
      ],
      "source": [
        "!git clone \"https://github.com/bred91/HamburgerManager.git\""
      ]
    },
    {
      "cell_type": "code",
      "execution_count": 6,
      "metadata": {
        "id": "70HelDlzFOCI",
        "colab": {
          "base_uri": "https://localhost:8080/"
        },
        "outputId": "857eaa53-e159-4265-eb80-80c3d60e1fed"
      },
      "outputs": [
        {
          "output_type": "stream",
          "name": "stdout",
          "text": [
            "Dataset doesn't exist\n"
          ]
        }
      ],
      "source": [
        "from google.colab import drive\n",
        "import os\n",
        "import sys\n",
        "\n",
        "if not os.path.isfile('/content/Validation_Dataset.zip'):\n",
        "  !gdown --id 11RKk7gbqZosu1AMrm9K2x7zj0nl3l7Y6p\n",
        "  !jar xvf  \"/content/Validation_Dataset.zip\"\n",
        "\n",
        "clear_output()\n",
        "\n",
        "if not os.path.isdir('/content/Validation_Dataset'):\n",
        "  print(\"Dataset doesn't exist\")"
      ]
    },
    {
      "cell_type": "code",
      "execution_count": 8,
      "metadata": {
        "id": "IlywvhixokKf"
      },
      "outputs": [],
      "source": [
        "import sys\n",
        "sys.path.append(\"/content/HamburgerManager/\")\n",
        "import HamburgerManager\n",
        "from HamburgerManager import *"
      ]
    },
    {
      "cell_type": "markdown",
      "metadata": {
        "id": "FU18k_ePKOYY"
      },
      "source": [
        "###Evaluation"
      ]
    },
    {
      "cell_type": "code",
      "execution_count": 10,
      "metadata": {
        "colab": {
          "base_uri": "https://localhost:8080/"
        },
        "id": "tTIRDewDoC89",
        "outputId": "a2d6a199-bf44-43b8-9912-63c26507eac8"
      },
      "outputs": [
        {
          "output_type": "stream",
          "name": "stdout",
          "text": [
            "Task:  2\n",
            "Method:  MaxEntropy\n",
            "Dataset:  RoadAnomaly21\n",
            "Loading model: /content/HamburgerManager/eval/erfnet.py\n",
            "Loading weights: /content/HamburgerManager/trained_models/erfnet_pretrained.pth\n",
            "Model and weights LOADED successfully\n",
            "/content/HamburgerManager/Validation_Dataset/RoadAnomaly21/images/4.png\n",
            "/content/HamburgerManager/Validation_Dataset/RoadAnomaly21/images/8.png\n",
            "/content/HamburgerManager/Validation_Dataset/RoadAnomaly21/images/1.png\n",
            "/content/HamburgerManager/Validation_Dataset/RoadAnomaly21/images/2.png\n",
            "/content/HamburgerManager/Validation_Dataset/RoadAnomaly21/images/3.png\n",
            "/content/HamburgerManager/Validation_Dataset/RoadAnomaly21/images/9.png\n",
            "/content/HamburgerManager/Validation_Dataset/RoadAnomaly21/images/5.png\n",
            "/content/HamburgerManager/Validation_Dataset/RoadAnomaly21/images/6.png\n",
            "/content/HamburgerManager/Validation_Dataset/RoadAnomaly21/images/7.png\n",
            "/content/HamburgerManager/Validation_Dataset/RoadAnomaly21/images/0.png\n",
            "AUPRC score: 14.30985038512751\n",
            "FPR@TPR95: 96.71604360965756\n"
          ]
        }
      ],
      "source": [
        "%run /content/HamburgerManager/eval/evalAnomaly.py --method MaxEntropy --isColab --input /content/HamburgerManager/Validation_Dataset/RoadAnomaly21/images --loadDir /content/HamburgerManager/"
      ]
    },
    {
      "cell_type": "markdown",
      "metadata": {
        "id": "qe5UreVwGxE0"
      },
      "source": [
        "Temperature Scaling"
      ]
    },
    {
      "cell_type": "code",
      "execution_count": null,
      "metadata": {
        "id": "aNt2Q2O8fmgO"
      },
      "outputs": [],
      "source": [
        "%run /content/HamburgerManager/eval/evalAnomaly.py --method MSP --model BisenetV2 --withT 10.0 --isColab --input /content/Validation_Dataset/FS_LostFound_full/images --loadDir /content/HamburgerManager/"
      ]
    },
    {
      "cell_type": "markdown",
      "metadata": {
        "id": "rWZ6vYdWRGSO"
      },
      "source": [
        "mIoU"
      ]
    },
    {
      "cell_type": "code",
      "execution_count": null,
      "metadata": {
        "colab": {
          "base_uri": "https://localhost:8080/"
        },
        "id": "f2BMA-2qazYR",
        "outputId": "7f3cdca3-5f4f-48d1-ef2d-6bb249e9d4c2"
      },
      "outputs": [
        {
          "output_type": "stream",
          "name": "stdout",
          "text": [
            "Done\n"
          ]
        }
      ],
      "source": [
        "!pip install opendatasets --upgrade\n",
        "!pip install segmentation-models-pytorch --upgrade\n",
        "!pip install torchmetrics --upgrade\n",
        "!pip install albumentations --upgrade\n",
        "!pip install loguru --upgrade\n",
        "!pip install tqdm --upgrade\n",
        "clear_output()\n",
        "print(\"Done\")"
      ]
    },
    {
      "cell_type": "code",
      "execution_count": null,
      "metadata": {
        "id": "XCnqSbUra1Vg",
        "colab": {
          "base_uri": "https://localhost:8080/"
        },
        "outputId": "9374b1c8-fa98-4804-f77e-27e15162ba23"
      },
      "outputs": [
        {
          "output_type": "stream",
          "name": "stdout",
          "text": [
            "Please provide your Kaggle credentials to download this dataset. Learn more: http://bit.ly/kaggle-creds\n",
            "Your Kaggle username:Your Kaggle Key: ··········\n",
            "Downloading cityscapes.zip to ./cityscapes\n"
          ]
        },
        {
          "output_type": "stream",
          "name": "stderr",
          "text": [
            "100%|██████████| 11.0G/11.0G [01:58<00:00, 99.9MB/s]\n"
          ]
        },
        {
          "output_type": "stream",
          "name": "stdout",
          "text": [
            "\n"
          ]
        }
      ],
      "source": [
        "import opendatasets as od\n",
        "dataset_url = 'https://www.kaggle.com/kavithak1388/cityscapes'\n",
        "od.download(dataset_url)"
      ]
    },
    {
      "cell_type": "code",
      "execution_count": null,
      "metadata": {
        "id": "cBZg_MqqRE8X"
      },
      "outputs": [],
      "source": [
        "%run /content/HamburgerManager/eval/eval_iou.py --model BisenetV2 --datadir /content/cityscapes/Cityscape/ --loadDir /content/HamburgerManager/ --subset val"
      ]
    },
    {
      "cell_type": "markdown",
      "source": [
        "Task 3"
      ],
      "metadata": {
        "id": "pbEOF3M2rUEs"
      }
    },
    {
      "cell_type": "code",
      "source": [
        "%run /content/HamburgerManager/eval/evalAnomaly.py --task 3 --model Enet --isColab --input /content/HamburgerManager/Validation_Dataset/RoadAnomaly21/images --loadDir /content/HamburgerManager/ --loadWeights trained_models/task3/enet_pretrained_30.pth --loadModel eval/enet.py"
      ],
      "metadata": {
        "id": "SYnizi93rj-6"
      },
      "execution_count": null,
      "outputs": []
    }
  ],
  "metadata": {
    "accelerator": "GPU",
    "colab": {
      "provenance": [],
      "authorship_tag": "ABX9TyOFWhiT4P13iI/31RFpoBG+"
    },
    "kernelspec": {
      "display_name": "Python 3",
      "name": "python3"
    },
    "language_info": {
      "name": "python"
    }
  },
  "nbformat": 4,
  "nbformat_minor": 0
}