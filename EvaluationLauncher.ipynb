{
  "cells": [
    {
      "cell_type": "markdown",
      "metadata": {
        "id": "O65EaNA3KWoA"
      },
      "source": [
        "#Evaluation Launcher"
      ]
    },
    {
      "cell_type": "markdown",
      "metadata": {
        "id": "7VH1sz0vKD2K"
      },
      "source": [
        "###Import"
      ]
    },
    {
      "cell_type": "code",
      "execution_count": null,
      "metadata": {
        "id": "CAjEhUFVuOe8"
      },
      "outputs": [],
      "source": [
        "!pip install ood-metrics\n",
        "from IPython.display import clear_output\n",
        "clear_output()"
      ]
    },
    {
      "cell_type": "markdown",
      "metadata": {
        "id": "yA4FrWqrKGpc"
      },
      "source": [
        "###Loading"
      ]
    },
    {
      "cell_type": "code",
      "execution_count": null,
      "metadata": {
        "colab": {
          "base_uri": "https://localhost:8080/"
        },
        "id": "iJlRtQDiuIlz",
        "outputId": "ed8a80f1-caa6-4140-fe7e-0ec5e0d8f07f"
      },
      "outputs": [
        {
          "output_type": "stream",
          "name": "stdout",
          "text": [
            "fatal: destination path 'HamburgerManager' already exists and is not an empty directory.\n"
          ]
        }
      ],
      "source": [
        "!git clone \"https://github.com/bred91/HamburgerManager.git\""
      ]
    },
    {
      "cell_type": "code",
      "execution_count": null,
      "metadata": {
        "id": "70HelDlzFOCI"
      },
      "outputs": [],
      "source": [
        "from google.colab import drive\n",
        "import os\n",
        "import sys\n",
        "\n",
        "if not os.path.isfile('/content/Validation_Dataset.zip'):\n",
        "  !gdown --id 1r2eFANvSlcUjxcerjC8l6dRa0slowMpx\n",
        "  !jar xvf  \"/content/Validation_Dataset.zip\"\n",
        "\n",
        "clear_output()\n",
        "\n",
        "if not os.path.isdir('/content/Validation_Dataset'):\n",
        "  print(\"Dataset doesn't exist\")"
      ]
    },
    {
      "cell_type": "code",
      "execution_count": null,
      "metadata": {
        "id": "IlywvhixokKf"
      },
      "outputs": [],
      "source": [
        "import sys\n",
        "sys.path.append(\"/content/HamburgerManager/\")\n",
        "import HamburgerManager\n",
        "from HamburgerManager import *"
      ]
    },
    {
      "cell_type": "markdown",
      "metadata": {
        "id": "FU18k_ePKOYY"
      },
      "source": [
        "###Evaluation"
      ]
    },
    {
      "cell_type": "code",
      "execution_count": null,
      "metadata": {
        "colab": {
          "base_uri": "https://localhost:8080/"
        },
        "id": "tTIRDewDoC89",
        "outputId": "a8308c33-1b59-4a67-8550-5cafa7ecfeaf"
      },
      "outputs": [
        {
          "name": "stdout",
          "output_type": "stream",
          "text": [
            "Method:  MaxLogit\n",
            "Dataset:  RoadObsticle21\n",
            "Loading model: /content/HamburgerManager/eval/bisenetv2.py\n",
            "Loading weights: /content/HamburgerManager/trained_models/bisenetV2_pretrained.pth\n",
            "cur_epoch  not loaded\n",
            "best_score  not loaded\n",
            "state_dict  not loaded\n",
            "optimizer  not loaded\n",
            "scheduler  not loaded\n",
            "Model and weights LOADED successfully\n",
            "/content/Validation_Dataset/RoadObsticle21/images/4.webp\n",
            "/content/Validation_Dataset/RoadObsticle21/images/28.webp\n",
            "/content/Validation_Dataset/RoadObsticle21/images/10.webp\n",
            "/content/Validation_Dataset/RoadObsticle21/images/8.webp\n",
            "/content/Validation_Dataset/RoadObsticle21/images/11.webp\n",
            "/content/Validation_Dataset/RoadObsticle21/images/21.webp\n",
            "/content/Validation_Dataset/RoadObsticle21/images/15.webp\n",
            "/content/Validation_Dataset/RoadObsticle21/images/2.webp\n",
            "/content/Validation_Dataset/RoadObsticle21/images/13.webp\n",
            "/content/Validation_Dataset/RoadObsticle21/images/18.webp\n",
            "/content/Validation_Dataset/RoadObsticle21/images/23.webp\n",
            "/content/Validation_Dataset/RoadObsticle21/images/6.webp\n",
            "/content/Validation_Dataset/RoadObsticle21/images/0.webp\n",
            "/content/Validation_Dataset/RoadObsticle21/images/26.webp\n",
            "/content/Validation_Dataset/RoadObsticle21/images/7.webp\n",
            "/content/Validation_Dataset/RoadObsticle21/images/14.webp\n",
            "/content/Validation_Dataset/RoadObsticle21/images/27.webp\n",
            "/content/Validation_Dataset/RoadObsticle21/images/16.webp\n",
            "/content/Validation_Dataset/RoadObsticle21/images/25.webp\n",
            "/content/Validation_Dataset/RoadObsticle21/images/17.webp\n",
            "/content/Validation_Dataset/RoadObsticle21/images/20.webp\n",
            "/content/Validation_Dataset/RoadObsticle21/images/9.webp\n",
            "/content/Validation_Dataset/RoadObsticle21/images/12.webp\n",
            "/content/Validation_Dataset/RoadObsticle21/images/5.webp\n",
            "/content/Validation_Dataset/RoadObsticle21/images/24.webp\n",
            "/content/Validation_Dataset/RoadObsticle21/images/19.webp\n",
            "/content/Validation_Dataset/RoadObsticle21/images/3.webp\n",
            "/content/Validation_Dataset/RoadObsticle21/images/1.webp\n",
            "/content/Validation_Dataset/RoadObsticle21/images/22.webp\n",
            "/content/Validation_Dataset/RoadObsticle21/images/29.webp\n",
            "AUPRC score: 10.988125576150228\n",
            "FPR@TPR95: 94.65678469311221\n"
          ]
        }
      ],
      "source": [
        "%run /content/HamburgerManager/eval/evalAnomaly.py --method MaxLogit --model BisenetV2 --isColab --input /content/Validation_Dataset/RoadObsticle21/images --loadDir /content/HamburgerManager/"
      ]
    },
    {
      "cell_type": "markdown",
      "metadata": {
        "id": "qe5UreVwGxE0"
      },
      "source": [
        "Temperature Scaling"
      ]
    },
    {
      "cell_type": "code",
      "execution_count": null,
      "metadata": {
        "id": "aNt2Q2O8fmgO"
      },
      "outputs": [],
      "source": [
        "%run /content/HamburgerManager/eval/evalAnomaly.py --method MSP --model BisenetV2 --withT 10.0 --isColab --input /content/Validation_Dataset/FS_LostFound_full/images --loadDir /content/HamburgerManager/"
      ]
    },
    {
      "cell_type": "markdown",
      "metadata": {
        "id": "rWZ6vYdWRGSO"
      },
      "source": [
        "mIoU"
      ]
    },
    {
      "cell_type": "code",
      "execution_count": null,
      "metadata": {
        "colab": {
          "base_uri": "https://localhost:8080/"
        },
        "id": "f2BMA-2qazYR",
        "outputId": "7f3cdca3-5f4f-48d1-ef2d-6bb249e9d4c2"
      },
      "outputs": [
        {
          "output_type": "stream",
          "name": "stdout",
          "text": [
            "Done\n"
          ]
        }
      ],
      "source": [
        "!pip install opendatasets --upgrade\n",
        "!pip install segmentation-models-pytorch --upgrade\n",
        "!pip install torchmetrics --upgrade\n",
        "!pip install albumentations --upgrade\n",
        "!pip install loguru --upgrade\n",
        "!pip install tqdm --upgrade\n",
        "clear_output()\n",
        "print(\"Done\")"
      ]
    },
    {
      "cell_type": "code",
      "execution_count": null,
      "metadata": {
        "id": "XCnqSbUra1Vg",
        "colab": {
          "base_uri": "https://localhost:8080/"
        },
        "outputId": "9374b1c8-fa98-4804-f77e-27e15162ba23"
      },
      "outputs": [
        {
          "output_type": "stream",
          "name": "stdout",
          "text": [
            "Please provide your Kaggle credentials to download this dataset. Learn more: http://bit.ly/kaggle-creds\n",
            "Your Kaggle username:Your Kaggle Key: ··········\n",
            "Downloading cityscapes.zip to ./cityscapes\n"
          ]
        },
        {
          "output_type": "stream",
          "name": "stderr",
          "text": [
            "100%|██████████| 11.0G/11.0G [01:58<00:00, 99.9MB/s]\n"
          ]
        },
        {
          "output_type": "stream",
          "name": "stdout",
          "text": [
            "\n"
          ]
        }
      ],
      "source": [
        "import opendatasets as od\n",
        "dataset_url = 'https://www.kaggle.com/kavithak1388/cityscapes'\n",
        "od.download(dataset_url)"
      ]
    },
    {
      "cell_type": "code",
      "execution_count": null,
      "metadata": {
        "id": "cBZg_MqqRE8X"
      },
      "outputs": [],
      "source": [
        "%run /content/HamburgerManager/eval/eval_iou.py --model BisenetV2 --datadir /content/cityscapes/Cityscape/ --loadDir /content/HamburgerManager/ --subset val"
      ]
    }
  ],
  "metadata": {
    "accelerator": "GPU",
    "colab": {
      "provenance": [],
      "authorship_tag": "ABX9TyNnSWf8fuk52nfdnqRQOrm2"
    },
    "kernelspec": {
      "display_name": "Python 3",
      "name": "python3"
    },
    "language_info": {
      "name": "python"
    }
  },
  "nbformat": 4,
  "nbformat_minor": 0
}