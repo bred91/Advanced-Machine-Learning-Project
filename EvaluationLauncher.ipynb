{
  "cells": [
    {
      "cell_type": "markdown",
      "metadata": {
        "id": "O65EaNA3KWoA"
      },
      "source": [
        "#Evaluation Launcher"
      ]
    },
    {
      "cell_type": "markdown",
      "metadata": {
        "id": "7VH1sz0vKD2K"
      },
      "source": [
        "###Import"
      ]
    },
    {
      "cell_type": "code",
      "execution_count": 1,
      "metadata": {
        "id": "CAjEhUFVuOe8"
      },
      "outputs": [],
      "source": [
        "!pip install ood-metrics\n",
        "from IPython.display import clear_output\n",
        "clear_output()"
      ]
    },
    {
      "cell_type": "markdown",
      "metadata": {
        "id": "yA4FrWqrKGpc"
      },
      "source": [
        "###Loading"
      ]
    },
    {
      "cell_type": "code",
      "execution_count": 2,
      "metadata": {
        "colab": {
          "base_uri": "https://localhost:8080/"
        },
        "id": "iJlRtQDiuIlz",
        "outputId": "f0ac9d60-4881-47fe-99dc-378b2dd4ab43"
      },
      "outputs": [
        {
          "output_type": "stream",
          "name": "stdout",
          "text": [
            "Cloning into 'HamburgerManager'...\n",
            "remote: Enumerating objects: 778, done.\u001b[K\n",
            "remote: Counting objects: 100% (17/17), done.\u001b[K\n",
            "remote: Compressing objects: 100% (16/16), done.\u001b[K\n",
            "remote: Total 778 (delta 6), reused 3 (delta 1), pack-reused 761\u001b[K\n",
            "Receiving objects: 100% (778/778), 362.02 MiB | 22.55 MiB/s, done.\n",
            "Resolving deltas: 100% (141/141), done.\n",
            "Updating files: 100% (561/561), done.\n"
          ]
        }
      ],
      "source": [
        "!git clone \"https://github.com/bred91/HamburgerManager.git\""
      ]
    },
    {
      "cell_type": "code",
      "execution_count": 3,
      "metadata": {
        "id": "70HelDlzFOCI",
        "colab": {
          "base_uri": "https://localhost:8080/"
        },
        "outputId": "a866d219-5eb6-40eb-9da6-9563341413e6"
      },
      "outputs": [
        {
          "output_type": "stream",
          "name": "stdout",
          "text": [
            "Dataset doesn't exist\n"
          ]
        }
      ],
      "source": [
        "from google.colab import drive\n",
        "import os\n",
        "import sys\n",
        "\n",
        "if not os.path.isfile('/content/Validation_Dataset.zip'):\n",
        "  !gdown --id 11RKk7gbqZosu1AMrm9K2x7zj0nl3l7Y6p\n",
        "  !jar xvf  \"/content/Validation_Dataset.zip\"\n",
        "\n",
        "clear_output()\n",
        "\n",
        "if not os.path.isdir('/content/Validation_Dataset'):\n",
        "  print(\"Dataset doesn't exist\")"
      ]
    },
    {
      "cell_type": "code",
      "execution_count": 4,
      "metadata": {
        "id": "IlywvhixokKf"
      },
      "outputs": [],
      "source": [
        "import sys\n",
        "sys.path.append(\"/content/HamburgerManager/\")\n",
        "import HamburgerManager\n",
        "from HamburgerManager import *"
      ]
    },
    {
      "cell_type": "markdown",
      "metadata": {
        "id": "FU18k_ePKOYY"
      },
      "source": [
        "#Evaluation"
      ]
    },
    {
      "cell_type": "markdown",
      "source": [
        "##Task2"
      ],
      "metadata": {
        "id": "1oeZYWf2UABv"
      }
    },
    {
      "cell_type": "code",
      "execution_count": 10,
      "metadata": {
        "colab": {
          "base_uri": "https://localhost:8080/"
        },
        "id": "tTIRDewDoC89",
        "outputId": "a2d6a199-bf44-43b8-9912-63c26507eac8"
      },
      "outputs": [
        {
          "output_type": "stream",
          "name": "stdout",
          "text": [
            "Task:  2\n",
            "Method:  MaxEntropy\n",
            "Dataset:  RoadAnomaly21\n",
            "Loading model: /content/HamburgerManager/eval/erfnet.py\n",
            "Loading weights: /content/HamburgerManager/trained_models/erfnet_pretrained.pth\n",
            "Model and weights LOADED successfully\n",
            "/content/HamburgerManager/Validation_Dataset/RoadAnomaly21/images/4.png\n",
            "/content/HamburgerManager/Validation_Dataset/RoadAnomaly21/images/8.png\n",
            "/content/HamburgerManager/Validation_Dataset/RoadAnomaly21/images/1.png\n",
            "/content/HamburgerManager/Validation_Dataset/RoadAnomaly21/images/2.png\n",
            "/content/HamburgerManager/Validation_Dataset/RoadAnomaly21/images/3.png\n",
            "/content/HamburgerManager/Validation_Dataset/RoadAnomaly21/images/9.png\n",
            "/content/HamburgerManager/Validation_Dataset/RoadAnomaly21/images/5.png\n",
            "/content/HamburgerManager/Validation_Dataset/RoadAnomaly21/images/6.png\n",
            "/content/HamburgerManager/Validation_Dataset/RoadAnomaly21/images/7.png\n",
            "/content/HamburgerManager/Validation_Dataset/RoadAnomaly21/images/0.png\n",
            "AUPRC score: 14.30985038512751\n",
            "FPR@TPR95: 96.71604360965756\n"
          ]
        }
      ],
      "source": [
        "%run /content/HamburgerManager/eval/evalAnomaly.py --method MaxEntropy --isColab --input /content/HamburgerManager/Validation_Dataset/RoadAnomaly21/images --loadDir /content/HamburgerManager/"
      ]
    },
    {
      "cell_type": "markdown",
      "metadata": {
        "id": "qe5UreVwGxE0"
      },
      "source": [
        "Temperature Scaling"
      ]
    },
    {
      "cell_type": "code",
      "execution_count": null,
      "metadata": {
        "id": "aNt2Q2O8fmgO"
      },
      "outputs": [],
      "source": [
        "%run /content/HamburgerManager/eval/evalAnomaly.py --method MSP --model BisenetV2 --withT 10.0 --isColab --input /content/Validation_Dataset/FS_LostFound_full/images --loadDir /content/HamburgerManager/"
      ]
    },
    {
      "cell_type": "markdown",
      "metadata": {
        "id": "rWZ6vYdWRGSO"
      },
      "source": [
        "mIoU"
      ]
    },
    {
      "cell_type": "code",
      "execution_count": null,
      "metadata": {
        "colab": {
          "base_uri": "https://localhost:8080/"
        },
        "id": "f2BMA-2qazYR",
        "outputId": "7f3cdca3-5f4f-48d1-ef2d-6bb249e9d4c2"
      },
      "outputs": [
        {
          "output_type": "stream",
          "name": "stdout",
          "text": [
            "Done\n"
          ]
        }
      ],
      "source": [
        "!pip install opendatasets --upgrade\n",
        "!pip install segmentation-models-pytorch --upgrade\n",
        "!pip install torchmetrics --upgrade\n",
        "!pip install albumentations --upgrade\n",
        "!pip install loguru --upgrade\n",
        "!pip install tqdm --upgrade\n",
        "clear_output()\n",
        "print(\"Done\")"
      ]
    },
    {
      "cell_type": "code",
      "execution_count": null,
      "metadata": {
        "id": "XCnqSbUra1Vg",
        "colab": {
          "base_uri": "https://localhost:8080/"
        },
        "outputId": "9374b1c8-fa98-4804-f77e-27e15162ba23"
      },
      "outputs": [
        {
          "output_type": "stream",
          "name": "stdout",
          "text": [
            "Please provide your Kaggle credentials to download this dataset. Learn more: http://bit.ly/kaggle-creds\n",
            "Your Kaggle username:Your Kaggle Key: ··········\n",
            "Downloading cityscapes.zip to ./cityscapes\n"
          ]
        },
        {
          "output_type": "stream",
          "name": "stderr",
          "text": [
            "100%|██████████| 11.0G/11.0G [01:58<00:00, 99.9MB/s]\n"
          ]
        },
        {
          "output_type": "stream",
          "name": "stdout",
          "text": [
            "\n"
          ]
        }
      ],
      "source": [
        "import opendatasets as od\n",
        "dataset_url = 'https://www.kaggle.com/kavithak1388/cityscapes'\n",
        "od.download(dataset_url)"
      ]
    },
    {
      "cell_type": "code",
      "execution_count": null,
      "metadata": {
        "id": "cBZg_MqqRE8X"
      },
      "outputs": [],
      "source": [
        "%run /content/HamburgerManager/eval/eval_iou.py --model BisenetV2 --datadir /content/cityscapes/Cityscape/ --loadDir /content/HamburgerManager/ --subset val"
      ]
    },
    {
      "cell_type": "markdown",
      "source": [
        "##Task 3"
      ],
      "metadata": {
        "id": "pbEOF3M2rUEs"
      }
    },
    {
      "cell_type": "markdown",
      "source": [
        "Enet"
      ],
      "metadata": {
        "id": "kshZrKmZUKnW"
      }
    },
    {
      "cell_type": "code",
      "source": [
        "%run /content/HamburgerManager/eval/evalAnomaly.py --task 3 --model Enet --isColab --input /content/HamburgerManager/Validation_Dataset/RoadAnomaly21/images --loadDir /content/HamburgerManager/ --loadWeights trained_models/task3/enet_pretrained_30.pth --loadModel eval/enet.py"
      ],
      "metadata": {
        "colab": {
          "base_uri": "https://localhost:8080/"
        },
        "id": "SYnizi93rj-6",
        "outputId": "aea24b2d-6564-4e11-d6d0-5af42c6e342e"
      },
      "execution_count": 6,
      "outputs": [
        {
          "output_type": "stream",
          "name": "stdout",
          "text": [
            "Task:  3\n",
            "Method:  MaxLogit\n",
            "Dataset:  RoadAnomaly21\n",
            "Loading model: /content/HamburgerManager/eval/enet.py\n",
            "Loading weights: /content/HamburgerManager/trained_models/task3/enet_pretrained_30.pth\n",
            "cur_epoch  not loaded\n",
            "best_score  not loaded\n",
            "state_dict  not loaded\n",
            "optimizer  not loaded\n",
            "scheduler  not loaded\n",
            "Model and weights LOADED successfully\n",
            "/content/HamburgerManager/Validation_Dataset/RoadAnomaly21/images/8.png\n",
            "/content/HamburgerManager/Validation_Dataset/RoadAnomaly21/images/2.png\n",
            "/content/HamburgerManager/Validation_Dataset/RoadAnomaly21/images/9.png\n",
            "/content/HamburgerManager/Validation_Dataset/RoadAnomaly21/images/6.png\n",
            "/content/HamburgerManager/Validation_Dataset/RoadAnomaly21/images/7.png\n",
            "/content/HamburgerManager/Validation_Dataset/RoadAnomaly21/images/0.png\n",
            "/content/HamburgerManager/Validation_Dataset/RoadAnomaly21/images/3.png\n",
            "/content/HamburgerManager/Validation_Dataset/RoadAnomaly21/images/4.png\n",
            "/content/HamburgerManager/Validation_Dataset/RoadAnomaly21/images/5.png\n",
            "/content/HamburgerManager/Validation_Dataset/RoadAnomaly21/images/1.png\n",
            "AUPRC score: 12.576268999902757\n",
            "FPR@TPR95: 94.65085253027502\n"
          ]
        }
      ]
    },
    {
      "cell_type": "markdown",
      "source": [
        "ErfNet"
      ],
      "metadata": {
        "id": "lwIHMfifUM0F"
      }
    },
    {
      "cell_type": "code",
      "source": [
        "%run /content/HamburgerManager/eval/evalAnomaly.py --task 3 --model Erfnet --isColab --input /content/HamburgerManager/Validation_Dataset/RoadAnomaly21/images --loadDir /content/HamburgerManager/ --loadWeights trained_models/task3/erfnet_pretrained_30.pth --loadModel eval/erfnet.py"
      ],
      "metadata": {
        "colab": {
          "base_uri": "https://localhost:8080/"
        },
        "id": "oL-6XuauUN6N",
        "outputId": "d0fdd95c-8df7-4434-9178-30342e296c9e"
      },
      "execution_count": 7,
      "outputs": [
        {
          "output_type": "stream",
          "name": "stdout",
          "text": [
            "Task:  3\n",
            "Method:  MaxLogit\n",
            "Dataset:  RoadAnomaly21\n",
            "Loading model: /content/HamburgerManager/eval/erfnet.py\n",
            "Loading weights: /content/HamburgerManager/trained_models/task3/erfnet_pretrained_30.pth\n",
            "cur_epoch  not loaded\n",
            "best_score  not loaded\n",
            "state_dict  not loaded\n",
            "optimizer  not loaded\n",
            "scheduler  not loaded\n",
            "Model and weights LOADED successfully\n",
            "/content/HamburgerManager/Validation_Dataset/RoadAnomaly21/images/8.png\n",
            "/content/HamburgerManager/Validation_Dataset/RoadAnomaly21/images/2.png\n",
            "/content/HamburgerManager/Validation_Dataset/RoadAnomaly21/images/9.png\n",
            "/content/HamburgerManager/Validation_Dataset/RoadAnomaly21/images/6.png\n",
            "/content/HamburgerManager/Validation_Dataset/RoadAnomaly21/images/7.png\n",
            "/content/HamburgerManager/Validation_Dataset/RoadAnomaly21/images/0.png\n",
            "/content/HamburgerManager/Validation_Dataset/RoadAnomaly21/images/3.png\n",
            "/content/HamburgerManager/Validation_Dataset/RoadAnomaly21/images/4.png\n",
            "/content/HamburgerManager/Validation_Dataset/RoadAnomaly21/images/5.png\n",
            "/content/HamburgerManager/Validation_Dataset/RoadAnomaly21/images/1.png\n",
            "AUPRC score: 14.334020014919169\n",
            "FPR@TPR95: 92.11425660758799\n"
          ]
        }
      ]
    },
    {
      "cell_type": "markdown",
      "source": [
        "BisenetV2"
      ],
      "metadata": {
        "id": "gyEBbl47UPN8"
      }
    },
    {
      "cell_type": "code",
      "source": [
        "%run /content/HamburgerManager/eval/evalAnomaly.py --task 3 --model BisenetV2 --isColab --input /content/HamburgerManager/Validation_Dataset/RoadAnomaly21/images --loadDir /content/HamburgerManager/ --loadWeights trained_models/task3/bisenetV2_pretrained_30.pth --loadModel eval/bisenetv2.py"
      ],
      "metadata": {
        "colab": {
          "base_uri": "https://localhost:8080/"
        },
        "id": "kj8_ikjFURMJ",
        "outputId": "ab21ea5e-72e9-47da-fd89-d3ea7d006010"
      },
      "execution_count": 6,
      "outputs": [
        {
          "output_type": "stream",
          "name": "stdout",
          "text": [
            "Task:  3\n",
            "Method:  MaxLogit\n",
            "Dataset:  RoadAnomaly21\n",
            "Loading model: /content/HamburgerManager/eval/bisenetv2.py\n",
            "Loading weights: /content/HamburgerManager/trained_models/task3/bisenetV2_pretrained_30.pth\n",
            "cur_epoch  not loaded\n",
            "best_score  not loaded\n",
            "state_dict  not loaded\n",
            "optimizer  not loaded\n",
            "scheduler  not loaded\n",
            "Model and weights LOADED successfully\n",
            "/content/HamburgerManager/Validation_Dataset/RoadAnomaly21/images/8.png\n",
            "/content/HamburgerManager/Validation_Dataset/RoadAnomaly21/images/2.png\n",
            "/content/HamburgerManager/Validation_Dataset/RoadAnomaly21/images/9.png\n",
            "/content/HamburgerManager/Validation_Dataset/RoadAnomaly21/images/6.png\n",
            "/content/HamburgerManager/Validation_Dataset/RoadAnomaly21/images/7.png\n",
            "/content/HamburgerManager/Validation_Dataset/RoadAnomaly21/images/0.png\n",
            "/content/HamburgerManager/Validation_Dataset/RoadAnomaly21/images/3.png\n",
            "/content/HamburgerManager/Validation_Dataset/RoadAnomaly21/images/4.png\n",
            "/content/HamburgerManager/Validation_Dataset/RoadAnomaly21/images/5.png\n",
            "/content/HamburgerManager/Validation_Dataset/RoadAnomaly21/images/1.png\n",
            "AUPRC score: 10.17991015437006\n",
            "FPR@TPR95: 98.69912101166133\n"
          ]
        }
      ]
    }
  ],
  "metadata": {
    "accelerator": "GPU",
    "colab": {
      "provenance": [],
      "authorship_tag": "ABX9TyMoi3uxqyXpaQ50qUnurYvs"
    },
    "kernelspec": {
      "display_name": "Python 3",
      "name": "python3"
    },
    "language_info": {
      "name": "python"
    }
  },
  "nbformat": 4,
  "nbformat_minor": 0
}