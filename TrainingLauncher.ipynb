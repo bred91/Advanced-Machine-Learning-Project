{
  "cells": [
    {
      "cell_type": "markdown",
      "metadata": {
        "id": "O65EaNA3KWoA"
      },
      "source": [
        "#Training Launcher"
      ]
    },
    {
      "cell_type": "markdown",
      "metadata": {
        "id": "7VH1sz0vKD2K"
      },
      "source": [
        "###Import"
      ]
    },
    {
      "cell_type": "code",
      "execution_count": 1,
      "metadata": {
        "id": "CAjEhUFVuOe8"
      },
      "outputs": [],
      "source": [
        "!pip install ood-metrics\n",
        "from IPython.display import clear_output\n",
        "clear_output()"
      ]
    },
    {
      "cell_type": "markdown",
      "metadata": {
        "id": "nzz3LaeThU-V"
      },
      "source": [
        "###Training"
      ]
    },
    {
      "cell_type": "code",
      "execution_count": 2,
      "metadata": {
        "colab": {
          "base_uri": "https://localhost:8080/"
        },
        "id": "f2BMA-2qazYR",
        "outputId": "b8f0d6fa-0f5e-423a-b24f-23acd336b8e2"
      },
      "outputs": [
        {
          "output_type": "stream",
          "name": "stdout",
          "text": [
            "Done\n"
          ]
        }
      ],
      "source": [
        "!pip install opendatasets --upgrade\n",
        "!pip install segmentation-models-pytorch --upgrade\n",
        "!pip install torchmetrics --upgrade\n",
        "!pip install albumentations --upgrade\n",
        "!pip install loguru --upgrade\n",
        "!pip install tqdm --upgrade\n",
        "clear_output()\n",
        "print(\"Done\")"
      ]
    },
    {
      "cell_type": "code",
      "execution_count": 4,
      "metadata": {
        "colab": {
          "base_uri": "https://localhost:8080/"
        },
        "id": "XCnqSbUra1Vg",
        "outputId": "b8e7f2e7-f4c1-4317-f0de-ccabe57b2027"
      },
      "outputs": [
        {
          "output_type": "stream",
          "name": "stdout",
          "text": [
            "Please provide your Kaggle credentials to download this dataset. Learn more: http://bit.ly/kaggle-creds\n",
            "Your Kaggle username: raffaelepane\n",
            "Your Kaggle Key: ··········\n",
            "Downloading cityscapes.zip to ./cityscapes\n"
          ]
        },
        {
          "output_type": "stream",
          "name": "stderr",
          "text": [
            "100%|██████████| 11.0G/11.0G [06:28<00:00, 30.5MB/s]\n"
          ]
        },
        {
          "output_type": "stream",
          "name": "stdout",
          "text": [
            "\n"
          ]
        }
      ],
      "source": [
        "import opendatasets as od\n",
        "dataset_url = 'https://www.kaggle.com/kavithak1388/cityscapes'\n",
        "od.download(dataset_url)"
      ]
    },
    {
      "cell_type": "code",
      "execution_count": 3,
      "metadata": {
        "colab": {
          "base_uri": "https://localhost:8080/"
        },
        "id": "D_OWqlX-hdYt",
        "outputId": "93883ac4-914d-4c14-d0d8-8b0542ece714"
      },
      "outputs": [
        {
          "output_type": "stream",
          "name": "stdout",
          "text": [
            "Cloning into 'HamburgerManager'...\n",
            "remote: Enumerating objects: 767, done.\u001b[K\n",
            "remote: Counting objects: 100% (6/6), done.\u001b[K\n",
            "remote: Compressing objects: 100% (6/6), done.\u001b[K\n",
            "remote: Total 767 (delta 2), reused 0 (delta 0), pack-reused 761\u001b[K\n",
            "Receiving objects: 100% (767/767), 352.86 MiB | 33.66 MiB/s, done.\n",
            "Resolving deltas: 100% (137/137), done.\n"
          ]
        }
      ],
      "source": [
        "!git clone \"https://github.com/bred91/HamburgerManager.git\""
      ]
    },
    {
      "cell_type": "markdown",
      "source": [
        "Train"
      ],
      "metadata": {
        "id": "WAi0J33K7xjQ"
      }
    },
    {
      "cell_type": "code",
      "execution_count": 5,
      "metadata": {
        "id": "hGNc8KYjmTcC",
        "colab": {
          "base_uri": "https://localhost:8080/"
        },
        "outputId": "ffcc22c4-613e-4783-9093-e9797e5cd558"
      },
      "outputs": [
        {
          "output_type": "stream",
          "name": "stderr",
          "text": [
            "[2024-01-13 10:40] [!] Train from scratch\n",
            "[2024-01-13 10:40] \n",
            "\n",
            "\n",
            "######################### Config Informations #########################\n",
            "dataset: cityscapes\n",
            "num_class: 20\n",
            "model: bisenetv2\n",
            "encoder: None\n",
            "decoder: None\n",
            "loss_type: ce\n",
            "optimizer_type: adam\n",
            "lr_policy: cos_warmup\n",
            "total_epoch: 30\n",
            "train_bs: 8\n",
            "val_bs: 10\n",
            "train_num: 2968\n",
            "val_num: 500\n",
            "gpu_num: 1\n",
            "num_workers: 8\n",
            "amp_training: False\n",
            "DDP: False\n",
            "kd_training: False\n",
            "synBN: True\n",
            "use_ema: False\n",
            "use_aux: True\n",
            "#######################################################################\n",
            "\n",
            "\n"
          ]
        },
        {
          "output_type": "stream",
          "name": "stdout",
          "text": [
            "Warning: reduction is None, loss will be summed.\n"
          ]
        },
        {
          "output_type": "stream",
          "name": "stderr",
          "text": [
            "Epoch:0/30    |Loss:6.224    |: 100%|██████████| 371/371 [01:09<00:00,  5.32it/s]\n",
            "Validating:    |: 100%|██████████| 50/50 [00:18<00:00,  2.70it/s]\n",
            "[2024-01-13 10:42]  Epoch0 mIoU: 0.1628    | best mIoU so far: 0.0000\n",
            "\n",
            "Epoch:1/30    |Loss:5.465    |: 100%|██████████| 371/371 [01:08<00:00,  5.40it/s]\n",
            "Validating:    |: 100%|██████████| 50/50 [00:18<00:00,  2.77it/s]\n",
            "[2024-01-13 10:43]  Epoch1 mIoU: 0.1963    | best mIoU so far: 0.1628\n",
            "\n",
            "Epoch:2/30    |Loss:3.381    |: 100%|██████████| 371/371 [01:07<00:00,  5.47it/s]\n",
            "Validating:    |: 100%|██████████| 50/50 [00:17<00:00,  2.81it/s]\n",
            "[2024-01-13 10:45]  Epoch2 mIoU: 0.2346    | best mIoU so far: 0.1963\n",
            "\n",
            "Epoch:3/30    |Loss:4.43    |: 100%|██████████| 371/371 [01:09<00:00,  5.37it/s]\n",
            "Validating:    |: 100%|██████████| 50/50 [00:18<00:00,  2.72it/s]\n",
            "[2024-01-13 10:46]  Epoch3 mIoU: 0.2533    | best mIoU so far: 0.2346\n",
            "\n",
            "Epoch:4/30    |Loss:4.84    |: 100%|██████████| 371/371 [01:08<00:00,  5.42it/s]\n",
            "Validating:    |: 100%|██████████| 50/50 [00:18<00:00,  2.77it/s]\n",
            "[2024-01-13 10:48]  Epoch4 mIoU: 0.2402    | best mIoU so far: 0.2533\n",
            "\n",
            "Epoch:5/30    |Loss:3.804    |: 100%|██████████| 371/371 [01:09<00:00,  5.37it/s]\n",
            "Validating:    |: 100%|██████████| 50/50 [00:18<00:00,  2.76it/s]\n",
            "[2024-01-13 10:49]  Epoch5 mIoU: 0.2795    | best mIoU so far: 0.2533\n",
            "\n",
            "Epoch:6/30    |Loss:3.955    |: 100%|██████████| 371/371 [01:08<00:00,  5.42it/s]\n",
            "Validating:    |: 100%|██████████| 50/50 [00:18<00:00,  2.76it/s]\n",
            "[2024-01-13 10:50]  Epoch6 mIoU: 0.3201    | best mIoU so far: 0.2795\n",
            "\n",
            "Epoch:7/30    |Loss:2.64    |: 100%|██████████| 371/371 [01:09<00:00,  5.34it/s]\n",
            "Validating:    |: 100%|██████████| 50/50 [00:17<00:00,  2.82it/s]\n",
            "[2024-01-13 10:52]  Epoch7 mIoU: 0.2800    | best mIoU so far: 0.3201\n",
            "\n",
            "Epoch:8/30    |Loss:2.182    |: 100%|██████████| 371/371 [01:08<00:00,  5.40it/s]\n",
            "Validating:    |: 100%|██████████| 50/50 [00:18<00:00,  2.72it/s]\n",
            "[2024-01-13 10:53]  Epoch8 mIoU: 0.3315    | best mIoU so far: 0.3201\n",
            "\n",
            "Epoch:9/30    |Loss:3.855    |: 100%|██████████| 371/371 [01:09<00:00,  5.34it/s]\n",
            "Validating:    |: 100%|██████████| 50/50 [00:18<00:00,  2.72it/s]\n",
            "[2024-01-13 10:55]  Epoch9 mIoU: 0.3334    | best mIoU so far: 0.3315\n",
            "\n",
            "Epoch:10/30    |Loss:3.103    |: 100%|██████████| 371/371 [01:08<00:00,  5.40it/s]\n",
            "Validating:    |: 100%|██████████| 50/50 [00:18<00:00,  2.70it/s]\n",
            "[2024-01-13 10:56]  Epoch10 mIoU: 0.3443    | best mIoU so far: 0.3334\n",
            "\n",
            "Epoch:11/30    |Loss:4.047    |: 100%|██████████| 371/371 [01:09<00:00,  5.37it/s]\n",
            "Validating:    |: 100%|██████████| 50/50 [00:18<00:00,  2.72it/s]\n",
            "[2024-01-13 10:58]  Epoch11 mIoU: 0.3371    | best mIoU so far: 0.3443\n",
            "\n",
            "Epoch:12/30    |Loss:2.742    |: 100%|██████████| 371/371 [01:08<00:00,  5.43it/s]\n",
            "Validating:    |: 100%|██████████| 50/50 [00:18<00:00,  2.76it/s]\n",
            "[2024-01-13 10:59]  Epoch12 mIoU: 0.3725    | best mIoU so far: 0.3443\n",
            "\n",
            "Epoch:13/30    |Loss:4.638    |: 100%|██████████| 371/371 [01:08<00:00,  5.39it/s]\n",
            "Validating:    |: 100%|██████████| 50/50 [00:18<00:00,  2.76it/s]\n",
            "[2024-01-13 11:01]  Epoch13 mIoU: 0.3787    | best mIoU so far: 0.3725\n",
            "\n",
            "Epoch:14/30    |Loss:2.949    |: 100%|██████████| 371/371 [01:08<00:00,  5.41it/s]\n",
            "Validating:    |: 100%|██████████| 50/50 [00:18<00:00,  2.71it/s]\n",
            "[2024-01-13 11:02]  Epoch14 mIoU: 0.3912    | best mIoU so far: 0.3787\n",
            "\n",
            "Epoch:15/30    |Loss:2.736    |: 100%|██████████| 371/371 [01:08<00:00,  5.39it/s]\n",
            "Validating:    |: 100%|██████████| 50/50 [00:18<00:00,  2.72it/s]\n",
            "[2024-01-13 11:04]  Epoch15 mIoU: 0.4037    | best mIoU so far: 0.3912\n",
            "\n",
            "Epoch:16/30    |Loss:2.669    |: 100%|██████████| 371/371 [01:09<00:00,  5.36it/s]\n",
            "Validating:    |: 100%|██████████| 50/50 [00:18<00:00,  2.77it/s]\n",
            "[2024-01-13 11:05]  Epoch16 mIoU: 0.3856    | best mIoU so far: 0.4037\n",
            "\n",
            "Epoch:17/30    |Loss:2.516    |: 100%|██████████| 371/371 [01:08<00:00,  5.40it/s]\n",
            "Validating:    |: 100%|██████████| 50/50 [00:18<00:00,  2.73it/s]\n",
            "[2024-01-13 11:06]  Epoch17 mIoU: 0.4323    | best mIoU so far: 0.4037\n",
            "\n",
            "Epoch:18/30    |Loss:2.907    |: 100%|██████████| 371/371 [01:09<00:00,  5.36it/s]\n",
            "Validating:    |: 100%|██████████| 50/50 [00:18<00:00,  2.70it/s]\n",
            "[2024-01-13 11:08]  Epoch18 mIoU: 0.4217    | best mIoU so far: 0.4323\n",
            "\n",
            "Epoch:19/30    |Loss:2.708    |: 100%|██████████| 371/371 [01:09<00:00,  5.37it/s]\n",
            "Validating:    |: 100%|██████████| 50/50 [00:18<00:00,  2.71it/s]\n",
            "[2024-01-13 11:09]  Epoch19 mIoU: 0.4486    | best mIoU so far: 0.4323\n",
            "\n",
            "Epoch:20/30    |Loss:3.05    |: 100%|██████████| 371/371 [01:09<00:00,  5.37it/s]\n",
            "Validating:    |: 100%|██████████| 50/50 [00:18<00:00,  2.74it/s]\n",
            "[2024-01-13 11:11]  Epoch20 mIoU: 0.4544    | best mIoU so far: 0.4486\n",
            "\n",
            "Epoch:21/30    |Loss:3.457    |: 100%|██████████| 371/371 [01:08<00:00,  5.40it/s]\n",
            "Validating:    |: 100%|██████████| 50/50 [00:17<00:00,  2.79it/s]\n",
            "[2024-01-13 11:12]  Epoch21 mIoU: 0.4583    | best mIoU so far: 0.4544\n",
            "\n",
            "Epoch:22/30    |Loss:3.53    |: 100%|██████████| 371/371 [01:08<00:00,  5.39it/s]\n",
            "Validating:    |: 100%|██████████| 50/50 [00:18<00:00,  2.70it/s]\n",
            "[2024-01-13 11:14]  Epoch22 mIoU: 0.4614    | best mIoU so far: 0.4583\n",
            "\n",
            "Epoch:23/30    |Loss:3.934    |: 100%|██████████| 371/371 [01:08<00:00,  5.42it/s]\n",
            "Validating:    |: 100%|██████████| 50/50 [00:18<00:00,  2.73it/s]\n",
            "[2024-01-13 11:15]  Epoch23 mIoU: 0.4722    | best mIoU so far: 0.4614\n",
            "\n",
            "Epoch:24/30    |Loss:2.581    |: 100%|██████████| 371/371 [01:08<00:00,  5.38it/s]\n",
            "Validating:    |: 100%|██████████| 50/50 [00:18<00:00,  2.73it/s]\n",
            "[2024-01-13 11:17]  Epoch24 mIoU: 0.4734    | best mIoU so far: 0.4722\n",
            "\n",
            "Epoch:25/30    |Loss:2.448    |: 100%|██████████| 371/371 [01:08<00:00,  5.40it/s]\n",
            "Validating:    |: 100%|██████████| 50/50 [00:18<00:00,  2.71it/s]\n",
            "[2024-01-13 11:18]  Epoch25 mIoU: 0.4847    | best mIoU so far: 0.4734\n",
            "\n",
            "Epoch:26/30    |Loss:1.833    |: 100%|██████████| 371/371 [01:08<00:00,  5.39it/s]\n",
            "Validating:    |: 100%|██████████| 50/50 [00:18<00:00,  2.72it/s]\n",
            "[2024-01-13 11:20]  Epoch26 mIoU: 0.4813    | best mIoU so far: 0.4847\n",
            "\n",
            "Epoch:27/30    |Loss:3.187    |: 100%|██████████| 371/371 [01:09<00:00,  5.36it/s]\n",
            "Validating:    |: 100%|██████████| 50/50 [00:18<00:00,  2.76it/s]\n",
            "[2024-01-13 11:21]  Epoch27 mIoU: 0.4813    | best mIoU so far: 0.4847\n",
            "\n",
            "Epoch:28/30    |Loss:3.03    |: 100%|██████████| 371/371 [01:08<00:00,  5.39it/s]\n",
            "Validating:    |: 100%|██████████| 50/50 [00:18<00:00,  2.73it/s]\n",
            "[2024-01-13 11:22]  Epoch28 mIoU: 0.4871    | best mIoU so far: 0.4847\n",
            "\n",
            "Epoch:29/30    |Loss:2.069    |: 100%|██████████| 371/371 [01:09<00:00,  5.37it/s]\n",
            "Validating:    |: 100%|██████████| 50/50 [00:17<00:00,  2.78it/s]\n",
            "[2024-01-13 11:24]  Epoch29 mIoU: 0.4854    | best mIoU so far: 0.4871\n",
            "\n",
            "[2024-01-13 11:24] \n",
            "Train 30 epochs finished!\n",
            "\n",
            "[2024-01-13 11:24] ##################################################\n",
            "Validation for the best checkpoint...\n",
            "Validating:    |: 100%|██████████| 50/50 [00:18<00:00,  2.77it/s]\n",
            "[2024-01-13 11:24] \n",
            "\n",
            "Train 30 epochs finished.\n",
            "\n",
            "Best mIoU is: 0.4871\n",
            "\n",
            "[2024-01-13 11:24] Best validation score is 0.487078994512558.\n",
            "\n"
          ]
        }
      ],
      "source": [
        "%run /content/HamburgerManager/training/main.py"
      ]
    },
    {
      "cell_type": "code",
      "execution_count": 6,
      "metadata": {
        "id": "GCoY-P-UlCVL",
        "colab": {
          "base_uri": "https://localhost:8080/",
          "height": 17
        },
        "outputId": "65ff52df-1835-4b28-bade-50b8dbb25409"
      },
      "outputs": [
        {
          "output_type": "display_data",
          "data": {
            "text/plain": [
              "<IPython.core.display.Javascript object>"
            ],
            "application/javascript": [
              "\n",
              "    async function download(id, filename, size) {\n",
              "      if (!google.colab.kernel.accessAllowed) {\n",
              "        return;\n",
              "      }\n",
              "      const div = document.createElement('div');\n",
              "      const label = document.createElement('label');\n",
              "      label.textContent = `Downloading \"${filename}\": `;\n",
              "      div.appendChild(label);\n",
              "      const progress = document.createElement('progress');\n",
              "      progress.max = size;\n",
              "      div.appendChild(progress);\n",
              "      document.body.appendChild(div);\n",
              "\n",
              "      const buffers = [];\n",
              "      let downloaded = 0;\n",
              "\n",
              "      const channel = await google.colab.kernel.comms.open(id);\n",
              "      // Send a message to notify the kernel that we're ready.\n",
              "      channel.send({})\n",
              "\n",
              "      for await (const message of channel.messages) {\n",
              "        // Send a message to notify the kernel that we're ready.\n",
              "        channel.send({})\n",
              "        if (message.buffers) {\n",
              "          for (const buffer of message.buffers) {\n",
              "            buffers.push(buffer);\n",
              "            downloaded += buffer.byteLength;\n",
              "            progress.value = downloaded;\n",
              "          }\n",
              "        }\n",
              "      }\n",
              "      const blob = new Blob(buffers, {type: 'application/binary'});\n",
              "      const a = document.createElement('a');\n",
              "      a.href = window.URL.createObjectURL(blob);\n",
              "      a.download = filename;\n",
              "      div.appendChild(a);\n",
              "      a.click();\n",
              "      div.remove();\n",
              "    }\n",
              "  "
            ]
          },
          "metadata": {}
        },
        {
          "output_type": "display_data",
          "data": {
            "text/plain": [
              "<IPython.core.display.Javascript object>"
            ],
            "application/javascript": [
              "download(\"download_3431c2b9-7ab8-40af-8226-db8a2367c85a\", \"best.pth\", 10428505)"
            ]
          },
          "metadata": {}
        },
        {
          "output_type": "display_data",
          "data": {
            "text/plain": [
              "<IPython.core.display.Javascript object>"
            ],
            "application/javascript": [
              "\n",
              "    async function download(id, filename, size) {\n",
              "      if (!google.colab.kernel.accessAllowed) {\n",
              "        return;\n",
              "      }\n",
              "      const div = document.createElement('div');\n",
              "      const label = document.createElement('label');\n",
              "      label.textContent = `Downloading \"${filename}\": `;\n",
              "      div.appendChild(label);\n",
              "      const progress = document.createElement('progress');\n",
              "      progress.max = size;\n",
              "      div.appendChild(progress);\n",
              "      document.body.appendChild(div);\n",
              "\n",
              "      const buffers = [];\n",
              "      let downloaded = 0;\n",
              "\n",
              "      const channel = await google.colab.kernel.comms.open(id);\n",
              "      // Send a message to notify the kernel that we're ready.\n",
              "      channel.send({})\n",
              "\n",
              "      for await (const message of channel.messages) {\n",
              "        // Send a message to notify the kernel that we're ready.\n",
              "        channel.send({})\n",
              "        if (message.buffers) {\n",
              "          for (const buffer of message.buffers) {\n",
              "            buffers.push(buffer);\n",
              "            downloaded += buffer.byteLength;\n",
              "            progress.value = downloaded;\n",
              "          }\n",
              "        }\n",
              "      }\n",
              "      const blob = new Blob(buffers, {type: 'application/binary'});\n",
              "      const a = document.createElement('a');\n",
              "      a.href = window.URL.createObjectURL(blob);\n",
              "      a.download = filename;\n",
              "      div.appendChild(a);\n",
              "      a.click();\n",
              "      div.remove();\n",
              "    }\n",
              "  "
            ]
          },
          "metadata": {}
        },
        {
          "output_type": "display_data",
          "data": {
            "text/plain": [
              "<IPython.core.display.Javascript object>"
            ],
            "application/javascript": [
              "download(\"download_7e7a2754-3d1a-49cf-9c10-026b893a2b60\", \"seg_trainer.log\", 2970)"
            ]
          },
          "metadata": {}
        }
      ],
      "source": [
        "from google.colab import files\n",
        "files.download('save/best.pth')\n",
        "files.download('save/seg_trainer.log')"
      ]
    }
  ],
  "metadata": {
    "accelerator": "GPU",
    "colab": {
      "gpuType": "A100",
      "provenance": [],
      "machine_shape": "hm"
    },
    "kernelspec": {
      "display_name": "Python 3",
      "name": "python3"
    },
    "language_info": {
      "name": "python"
    }
  },
  "nbformat": 4,
  "nbformat_minor": 0
}